{
 "cells": [
  {
   "cell_type": "code",
   "execution_count": 2,
   "id": "1566e25c-fa4c-4aac-b1c1-2901439b79c4",
   "metadata": {},
   "outputs": [],
   "source": [
    "from pathlib import Path\n",
    "import re\n",
    "from email import policy\n",
    "from email.parser import BytesParser"
   ]
  },
  {
   "cell_type": "code",
   "execution_count": 6,
   "id": "31ccb918-cfea-4200-b438-78aaba74a16e",
   "metadata": {},
   "outputs": [],
   "source": [
    "EMAIL_FOLDERS_PATH = Path.cwd().parent.joinpath('data', 'raw', 'unpacked')\n",
    "EMAIL_FILE_PATTERN = re.compile(r'^\\d+\\.[0-9a-f]+$')"
   ]
  },
  {
   "cell_type": "code",
   "execution_count": 8,
   "id": "22163aba-dbf4-41bc-8ba6-8d64a8f7a682",
   "metadata": {},
   "outputs": [],
   "source": [
    "def extract_paths_and_labels(folder=EMAIL_FOLDERS_PATH, pattern=EMAIL_FILE_PATTERN):\n",
    "    email_paths_and_labels = []\n",
    "    for path in folder.rglob('*'):\n",
    "        \n",
    "        if path.is_file() and pattern.match(path.name):\n",
    "            parent_folder_name = path.parent.name\n",
    "            date = parent_folder_name\n",
    "            \n",
    "            if 'spam' in parent_folder_name:\n",
    "                label = 'spam'\n",
    "            elif 'ham' in parent_folder_name:\n",
    "                label = 'ham'\n",
    "            else:\n",
    "                label = 'none'\n",
    "\n",
    "            email_paths_and_labels.append((path, label))\n",
    "            \n",
    "    return email_paths_and_labels"
   ]
  },
  {
   "cell_type": "code",
   "execution_count": 15,
   "id": "35e32df7-3302-479b-8df4-a3ca84d9efb1",
   "metadata": {},
   "outputs": [],
   "source": [
    "def configure_raw_email(email_path):\n",
    "    with email_path.open(mode=\"rb\") as email_file:\n",
    "        raw_email = email_file.read()\n",
    "\n",
    "    configured_email = BytesParser(policy=policy.default).parsebytes(raw_email)\n",
    "    return configured_email"
   ]
  },
  {
   "cell_type": "code",
   "execution_count": 24,
   "id": "fb2ed934-7075-45aa-9e55-7b86ec1b8e0d",
   "metadata": {},
   "outputs": [],
   "source": [
    "def extract_email_body(configured_email):\n",
    "    email_body = \"\"   # default empty string\n",
    "    \n",
    "    if configured_email.is_multipart():\n",
    "        for email_part in configured_email.walk():   #.walk() traverses the MIME tree of the email.Each part is like a node:Could be text/plain, text/html, or binary attachments.\n",
    "            ctype = email_part.get_content_type()    # Gets the MIME type of that part.\n",
    "            disp = str(email_part.get('Content-Disposition')) #The Content-Disposition header describes how the content should be presented.\"inline\" → meant to be displayed (like body text or inline images).\"attachment\" → means a downloadable file (e.g. PDF, DOCX).By converting to str, we avoid NoneType issues if the header is missing.\n",
    "            # pick out text/plain and ignore attachments\n",
    "            if ctype == \"text/plain\" and \"attachment\" not in disp:\n",
    "                email_body = email_part.get_content()\n",
    "                break\n",
    "    else:\n",
    "        try:\n",
    "            email_body = configured_email.get_content()\n",
    "        except LookupError:\n",
    "            #.get_payload() retrieves the raw content of the message part.decode=True tells it to decode the transfer encoding:Base64Quoted-printableBut it doesn’t handle character encoding yet (still bytes).\n",
    "            payload = configured_email.get_payload(decode=True)\n",
    "            #Now we manually decode bytes → Unicode string.Assumes UTF-8 (most common modern encoding).errors=\"replace\" ensures decoding won’t crash if invalid characters are found:Invalid bytes get replaced with �.\n",
    "            email_body = payload.decode(\"utf-8\", errors='replace')\n",
    "\n",
    "    return email_body            "
   ]
  },
  {
   "cell_type": "code",
   "execution_count": 25,
   "id": "a04b1bad-ead8-443a-a315-469f9f9775ca",
   "metadata": {},
   "outputs": [],
   "source": [
    "import pandas as pd\n",
    "def make_df():\n",
    "    emails = []\n",
    "    labels = []\n",
    "    email_paths_and_labels = extract_paths_and_labels()\n",
    "    \n",
    "    for email_path, label in email_paths_and_labels:\n",
    "        configured_email = configure_raw_email(email_path)\n",
    "        email_body = extract_email_body(configured_email)\n",
    "        emails.append(email_body)\n",
    "        labels.append(label)\n",
    "\n",
    "    return pd.DataFrame({'email': emails, 'label': labels})"
   ]
  },
  {
   "cell_type": "code",
   "execution_count": 26,
   "id": "26b579a1-2ef1-4a19-b569-848c3c03b8f6",
   "metadata": {},
   "outputs": [],
   "source": [
    "df = make_df()"
   ]
  },
  {
   "cell_type": "code",
   "execution_count": 27,
   "id": "f00671e8-eca4-40b0-a5b7-2afd58516547",
   "metadata": {},
   "outputs": [
    {
     "data": {
      "text/html": [
       "<div>\n",
       "<style scoped>\n",
       "    .dataframe tbody tr th:only-of-type {\n",
       "        vertical-align: middle;\n",
       "    }\n",
       "\n",
       "    .dataframe tbody tr th {\n",
       "        vertical-align: top;\n",
       "    }\n",
       "\n",
       "    .dataframe thead th {\n",
       "        text-align: right;\n",
       "    }\n",
       "</style>\n",
       "<table border=\"1\" class=\"dataframe\">\n",
       "  <thead>\n",
       "    <tr style=\"text-align: right;\">\n",
       "      <th></th>\n",
       "      <th>email</th>\n",
       "      <th>label</th>\n",
       "    </tr>\n",
       "  </thead>\n",
       "  <tbody>\n",
       "    <tr>\n",
       "      <th>0</th>\n",
       "      <td>Greetings!\\n\\nYou are receiving this letter be...</td>\n",
       "      <td>spam</td>\n",
       "    </tr>\n",
       "    <tr>\n",
       "      <th>1</th>\n",
       "      <td>&lt;html&gt;\\n&lt;body&gt;\\n&lt;center&gt;\\n&lt;h3&gt;\\n&lt;font color=\"b...</td>\n",
       "      <td>spam</td>\n",
       "    </tr>\n",
       "    <tr>\n",
       "      <th>2</th>\n",
       "      <td>&lt;html&gt;\\n&lt;body&gt;\\n&lt;center&gt;\\n&lt;b&gt;\\n&lt;font color=\"bl...</td>\n",
       "      <td>spam</td>\n",
       "    </tr>\n",
       "    <tr>\n",
       "      <th>3</th>\n",
       "      <td>&lt;html&gt;\\n&lt;body&gt;\\n&lt;center&gt;\\n&lt;b&gt;\\n&lt;font color=\"bl...</td>\n",
       "      <td>spam</td>\n",
       "    </tr>\n",
       "    <tr>\n",
       "      <th>4</th>\n",
       "      <td>&lt;html&gt;&lt;xbody&gt;\\n&lt;hr width = \"100%\"&gt;\\n&lt;center&gt;&lt;h...</td>\n",
       "      <td>spam</td>\n",
       "    </tr>\n",
       "    <tr>\n",
       "      <th>...</th>\n",
       "      <td>...</td>\n",
       "      <td>...</td>\n",
       "    </tr>\n",
       "    <tr>\n",
       "      <th>7944</th>\n",
       "      <td>URL: http://www.newsisfree.com/click/-3,871436...</td>\n",
       "      <td>ham</td>\n",
       "    </tr>\n",
       "    <tr>\n",
       "      <th>7945</th>\n",
       "      <td>URL: http://www.newsisfree.com/click/-4,872399...</td>\n",
       "      <td>ham</td>\n",
       "    </tr>\n",
       "    <tr>\n",
       "      <th>7946</th>\n",
       "      <td>URL: http://www.newsisfree.com/click/-3,871080...</td>\n",
       "      <td>ham</td>\n",
       "    </tr>\n",
       "    <tr>\n",
       "      <th>7947</th>\n",
       "      <td>URL: http://www.newsisfree.com/click/-4,872400...</td>\n",
       "      <td>ham</td>\n",
       "    </tr>\n",
       "    <tr>\n",
       "      <th>7948</th>\n",
       "      <td>URL: http://www.newsisfree.com/click/-3,870882...</td>\n",
       "      <td>ham</td>\n",
       "    </tr>\n",
       "  </tbody>\n",
       "</table>\n",
       "<p>7949 rows × 2 columns</p>\n",
       "</div>"
      ],
      "text/plain": [
       "                                                  email label\n",
       "0     Greetings!\\n\\nYou are receiving this letter be...  spam\n",
       "1     <html>\\n<body>\\n<center>\\n<h3>\\n<font color=\"b...  spam\n",
       "2     <html>\\n<body>\\n<center>\\n<b>\\n<font color=\"bl...  spam\n",
       "3     <html>\\n<body>\\n<center>\\n<b>\\n<font color=\"bl...  spam\n",
       "4     <html><xbody>\\n<hr width = \"100%\">\\n<center><h...  spam\n",
       "...                                                 ...   ...\n",
       "7944  URL: http://www.newsisfree.com/click/-3,871436...   ham\n",
       "7945  URL: http://www.newsisfree.com/click/-4,872399...   ham\n",
       "7946  URL: http://www.newsisfree.com/click/-3,871080...   ham\n",
       "7947  URL: http://www.newsisfree.com/click/-4,872400...   ham\n",
       "7948  URL: http://www.newsisfree.com/click/-3,870882...   ham\n",
       "\n",
       "[7949 rows x 2 columns]"
      ]
     },
     "execution_count": 27,
     "metadata": {},
     "output_type": "execute_result"
    }
   ],
   "source": [
    "df"
   ]
  },
  {
   "cell_type": "code",
   "execution_count": null,
   "id": "2bbad712-9b15-4ec8-b4f4-1975c5b5fc72",
   "metadata": {},
   "outputs": [],
   "source": []
  }
 ],
 "metadata": {
  "kernelspec": {
   "display_name": "my_env",
   "language": "python",
   "name": "my_env"
  },
  "language_info": {
   "codemirror_mode": {
    "name": "ipython",
    "version": 3
   },
   "file_extension": ".py",
   "mimetype": "text/x-python",
   "name": "python",
   "nbconvert_exporter": "python",
   "pygments_lexer": "ipython3",
   "version": "3.13.5"
  }
 },
 "nbformat": 4,
 "nbformat_minor": 5
}
